{
  "nbformat": 4,
  "nbformat_minor": 0,
  "metadata": {
    "colab": {
      "name": "MNIST_Classification _final.ipynb",
      "provenance": [],
      "collapsed_sections": []
    },
    "kernelspec": {
      "name": "python3",
      "display_name": "Python 3"
    },
    "language_info": {
      "name": "python"
    },
    "accelerator": "GPU"
  },
  "cells": [
    {
      "cell_type": "code",
      "metadata": {
        "id": "tOMGA3AeaA32"
      },
      "source": [
        "import tensorflow as tf\n",
        "import pydot\n",
        "import keras \n",
        "from keras.datasets import mnist\n",
        "from keras.models import Sequential\n",
        "from keras.layers import Dense, Dropout, Flatten\n",
        "from keras.layers import Conv2D, MaxPooling2D\n",
        "from keras.utils import to_categorical\n",
        "import matplotlib.pyplot as plt\n",
        "import numpy as np\n",
        "from keras.utils.vis_utils import plot_model\n",
        "from keras.optimizers import Adam\n"
      ],
      "execution_count": 1,
      "outputs": []
    },
    {
      "cell_type": "code",
      "metadata": {
        "colab": {
          "base_uri": "https://localhost:8080/",
          "height": 265
        },
        "id": "ZqdfUzmIaCv5",
        "outputId": "4068ded3-710a-4ed9-93ab-36c3fa9c61b2"
      },
      "source": [
        "#================loding MNIST dataset===================================\n",
        "mnist = tf.keras.datasets.mnist\n",
        "\n",
        "(x_train, y_train),(x_test, y_test) = mnist.load_data() # Load data\n",
        "plt.imshow(x_train[0], cmap=\"gray\")\n",
        "plt.show()\n"
      ],
      "execution_count": 2,
      "outputs": [
        {
          "output_type": "display_data",
          "data": {
            "image/png": "[encoded data removed]",
            "text/plain": [
              "<Figure size 432x288 with 1 Axes>"
            ]
          },
          "metadata": {
            "tags": [],
            "needs_background": "light"
          }
        }
      ]
    },
    {
      "cell_type": "code",
      "metadata": {
        "id": "yiABt84AhQqO"
      },
      "source": [
        "x_val = x_train[:10000]\n",
        "y_val = y_train[:10000]\n",
        "\n",
        "x_train_new =  x_train[10000:]\n",
        "y_train_new = y_train[10000:]"
      ],
      "execution_count": 3,
      "outputs": []
    },
    {
      "cell_type": "code",
      "metadata": {
        "id": "vJZOyPaleoYH"
      },
      "source": [
        "#one hot encoding \n",
        "y_train_new = to_categorical(y_train_new)\n",
        "y_val = to_categorical(y_val)\n",
        "y_test = to_categorical(y_test)"
      ],
      "execution_count": 4,
      "outputs": []
    },
    {
      "cell_type": "code",
      "metadata": {
        "colab": {
          "base_uri": "https://localhost:8080/"
        },
        "id": "JjVKtp_8c4wV",
        "outputId": "26035829-23c9-4506-f53f-e99c58743260"
      },
      "source": [
        "print(x_train_new.shape)\n",
        "print(x_val.shape)\n",
        "print(x_test.shape)\n"
      ],
      "execution_count": 5,
      "outputs": [
        {
          "output_type": "stream",
          "text": [
            "(50000, 28, 28)\n",
            "(10000, 28, 28)\n",
            "(10000, 28, 28)\n"
          ],
          "name": "stdout"
        }
      ]
    },
    {
      "cell_type": "code",
      "metadata": {
        "colab": {
          "base_uri": "https://localhost:8080/"
        },
        "id": "VmqD9ShEl9nQ",
        "outputId": "f62896e1-0383-4472-bb23-c2ab010aa2cd"
      },
      "source": [
        "print(y_train_new.shape)\n",
        "print(y_val.shape)\n",
        "print(y_test.shape)\n"
      ],
      "execution_count": 6,
      "outputs": [
        {
          "output_type": "stream",
          "text": [
            "(50000, 10)\n",
            "(10000, 10)\n",
            "(10000, 10)\n"
          ],
          "name": "stdout"
        }
      ]
    },
    {
      "cell_type": "code",
      "metadata": {
        "colab": {
          "base_uri": "https://localhost:8080/",
          "height": 332
        },
        "id": "QlThhqgcaCqx",
        "outputId": "c10fcd0a-23e1-4c18-95d8-9e18a32c70c7"
      },
      "source": [
        "\n",
        "x_train_expand = x_train_new.reshape((x_train_new.shape[0], 28, 28, 1))\n",
        "x_test_expand = x_test.reshape((x_test.shape[0], 28, 28, 1))\n",
        "x_val_expand = x_val.reshape((x_val.shape[0], 28, 28, 1))\n",
        "x_train_expand = x_train_expand.astype('float16')\n",
        "x_test_expand = x_test_expand.astype('float16')\n",
        "print(x_train_expand.shape)\n",
        "print(x_test_expand.shape)\n",
        "print(x_val_expand.shape)\n",
        "plt.imshow(x_train[4])\n"
      ],
      "execution_count": 7,
      "outputs": [
        {
          "output_type": "stream",
          "text": [
            "(50000, 28, 28, 1)\n",
            "(10000, 28, 28, 1)\n",
            "(10000, 28, 28, 1)\n"
          ],
          "name": "stdout"
        },
        {
          "output_type": "execute_result",
          "data": {
            "text/plain": [
              "<matplotlib.image.AxesImage at 0x7fd511bf8290>"
            ]
          },
          "metadata": {
            "tags": []
          },
          "execution_count": 7
        },
        {
          "output_type": "display_data",
          "data": {
            "image/png": "[encoded data removed]",
            "text/plain": [
              "<Figure size 432x288 with 1 Axes>"
            ]
          },
          "metadata": {
            "tags": [],
            "needs_background": "light"
          }
        }
      ]
    },
    {
      "cell_type": "code",
      "metadata": {
        "id": "iMXbTPmtF3rw"
      },
      "source": [
        "x_train_expand = x_train_expand / 255.0\n",
        "x_test_expand = x_test_expand / 255.0"
      ],
      "execution_count": 8,
      "outputs": []
    },
    {
      "cell_type": "code",
      "metadata": {
        "id": "Ei_uyza8aCns"
      },
      "source": [
        "model = tf.keras.Sequential()\n",
        "model.add(Conv2D(8, kernel_size=5, activation='relu',strides =(1,1),padding='same',input_shape = (28,28,1)))\n",
        "model.add(MaxPooling2D(pool_size=(2,2),strides=None,padding='valid'))\n",
        "model.add(Conv2D(16, kernel_size=3, activation='relu',padding = 'same'))\n",
        "model.add(Flatten())\n",
        "model.add(Dense(32,activation='softmax'))\n",
        "model.add(Dense(10,activation='softmax'))"
      ],
      "execution_count": 9,
      "outputs": []
    },
    {
      "cell_type": "code",
      "metadata": {
        "colab": {
          "base_uri": "https://localhost:8080/"
        },
        "id": "W6tdWt3xa0kR",
        "outputId": "588a9355-682a-435b-9798-728e89b705ec"
      },
      "source": [
        "print(model.summary())"
      ],
      "execution_count": 10,
      "outputs": [
        {
          "output_type": "stream",
          "text": [
            "Model: \"sequential\"\n",
            "_________________________________________________________________\n",
            "Layer (type)                 Output Shape              Param #   \n",
            "=================================================================\n",
            "conv2d (Conv2D)              (None, 28, 28, 8)         208       \n",
            "_________________________________________________________________\n",
            "max_pooling2d (MaxPooling2D) (None, 14, 14, 8)         0         \n",
            "_________________________________________________________________\n",
            "conv2d_1 (Conv2D)            (None, 14, 14, 16)        1168      \n",
            "_________________________________________________________________\n",
            "flatten (Flatten)            (None, 3136)              0         \n",
            "_________________________________________________________________\n",
            "dense (Dense)                (None, 32)                100384    \n",
            "_________________________________________________________________\n",
            "dense_1 (Dense)              (None, 10)                330       \n",
            "=================================================================\n",
            "Total params: 102,090\n",
            "Trainable params: 102,090\n",
            "Non-trainable params: 0\n",
            "_________________________________________________________________\n",
            "None\n"
          ],
          "name": "stdout"
        }
      ]
    },
    {
      "cell_type": "code",
      "metadata": {
        "id": "Gvz4kCmRn3EX"
      },
      "source": [
        "epochs_value = 20"
      ],
      "execution_count": 11,
      "outputs": []
    },
    {
      "cell_type": "code",
      "metadata": {
        "colab": {
          "base_uri": "https://localhost:8080/"
        },
        "id": "OE1JXo1-aCk5",
        "outputId": "759a7e7c-2038-4174-c679-9579e0383f41"
      },
      "source": [
        "model.compile(optimizer=Adam(learning_rate= 0.0000001), loss='categorical_crossentropy', metrics=['accuracy'])\n",
        "\n",
        "model_history = model.fit(x= x_train_expand, y = y_train_new, validation_data=(x_val_expand,y_val) , epochs=epochs_value)\n",
        "loss = model_history.history['loss']\n",
        "val_loss = model_history.history['val_loss']"
      ],
      "execution_count": 12,
      "outputs": [
        {
          "output_type": "stream",
          "text": [
            "Epoch 1/20\n",
            "1563/1563 [==============================] - 9s 4ms/step - loss: 2.3034 - accuracy: 0.0967 - val_loss: 2.3075 - val_accuracy: 0.1135\n",
            "Epoch 2/20\n",
            "1563/1563 [==============================] - 5s 3ms/step - loss: 2.3031 - accuracy: 0.0965 - val_loss: 2.3024 - val_accuracy: 0.1173\n",
            "Epoch 3/20\n",
            "1563/1563 [==============================] - 5s 3ms/step - loss: 2.3027 - accuracy: 0.0959 - val_loss: 2.2978 - val_accuracy: 0.1192\n",
            "Epoch 4/20\n",
            "1563/1563 [==============================] - 6s 4ms/step - loss: 2.3023 - accuracy: 0.0938 - val_loss: 2.2934 - val_accuracy: 0.1223\n",
            "Epoch 5/20\n",
            "1563/1563 [==============================] - 6s 4ms/step - loss: 2.3017 - accuracy: 0.0987 - val_loss: 2.2887 - val_accuracy: 0.1262\n",
            "Epoch 6/20\n",
            "1563/1563 [==============================] - 6s 4ms/step - loss: 2.3014 - accuracy: 0.0965 - val_loss: 2.2837 - val_accuracy: 0.1326\n",
            "Epoch 7/20\n",
            "1563/1563 [==============================] - 6s 4ms/step - loss: 2.3009 - accuracy: 0.0971 - val_loss: 2.2786 - val_accuracy: 0.1370\n",
            "Epoch 8/20\n",
            "1563/1563 [==============================] - 6s 4ms/step - loss: 2.3004 - accuracy: 0.0987 - val_loss: 2.2725 - val_accuracy: 0.1431\n",
            "Epoch 9/20\n",
            "1563/1563 [==============================] - 6s 4ms/step - loss: 2.3002 - accuracy: 0.0948 - val_loss: 2.2658 - val_accuracy: 0.1465\n",
            "Epoch 10/20\n",
            "1563/1563 [==============================] - 6s 4ms/step - loss: 2.2996 - accuracy: 0.0979 - val_loss: 2.2592 - val_accuracy: 0.1528\n",
            "Epoch 11/20\n",
            "1563/1563 [==============================] - 6s 4ms/step - loss: 2.2992 - accuracy: 0.0982 - val_loss: 2.2521 - val_accuracy: 0.1596\n",
            "Epoch 12/20\n",
            "1563/1563 [==============================] - 6s 4ms/step - loss: 2.2987 - accuracy: 0.0977 - val_loss: 2.2454 - val_accuracy: 0.1666\n",
            "Epoch 13/20\n",
            "1563/1563 [==============================] - 6s 4ms/step - loss: 2.2982 - accuracy: 0.0973 - val_loss: 2.2391 - val_accuracy: 0.1747\n",
            "Epoch 14/20\n",
            "1563/1563 [==============================] - 5s 3ms/step - loss: 2.2976 - accuracy: 0.0988 - val_loss: 2.2326 - val_accuracy: 0.1823\n",
            "Epoch 15/20\n",
            "1563/1563 [==============================] - 6s 4ms/step - loss: 2.2972 - accuracy: 0.1005 - val_loss: 2.2263 - val_accuracy: 0.1883\n",
            "Epoch 16/20\n",
            "1563/1563 [==============================] - 6s 4ms/step - loss: 2.2967 - accuracy: 0.1040 - val_loss: 2.2200 - val_accuracy: 0.1938\n",
            "Epoch 17/20\n",
            "1563/1563 [==============================] - 5s 3ms/step - loss: 2.2963 - accuracy: 0.1051 - val_loss: 2.2140 - val_accuracy: 0.2014\n",
            "Epoch 18/20\n",
            "1563/1563 [==============================] - 5s 3ms/step - loss: 2.2958 - accuracy: 0.1096 - val_loss: 2.2084 - val_accuracy: 0.2082\n",
            "Epoch 19/20\n",
            "1563/1563 [==============================] - 6s 4ms/step - loss: 2.2952 - accuracy: 0.1173 - val_loss: 2.2033 - val_accuracy: 0.2137\n",
            "Epoch 20/20\n",
            "1563/1563 [==============================] - 6s 4ms/step - loss: 2.2948 - accuracy: 0.1243 - val_loss: 2.1994 - val_accuracy: 0.2171\n"
          ],
          "name": "stdout"
        }
      ]
    },
    {
      "cell_type": "code",
      "metadata": {
        "colab": {
          "base_uri": "https://localhost:8080/"
        },
        "id": "3IEqDmTqaMmN",
        "outputId": "a41fada8-84e6-40ca-96cb-d8971b102952"
      },
      "source": [
        "test_loss, test_acc = model.evaluate(x = x_test_expand, y=y_test)\n",
        "print('\\nTest accuracy:', test_acc)"
      ],
      "execution_count": 13,
      "outputs": [
        {
          "output_type": "stream",
          "text": [
            "313/313 [==============================] - 1s 3ms/step - loss: 2.2943 - accuracy: 0.1283\n",
            "\n",
            "Test accuracy: 0.1282999962568283\n"
          ],
          "name": "stdout"
        }
      ]
    },
    {
      "cell_type": "code",
      "metadata": {
        "colab": {
          "base_uri": "https://localhost:8080/",
          "height": 281
        },
        "id": "Mx_tmXoKaMjy",
        "outputId": "f7873461-74f4-4553-d9a1-699036466b8d"
      },
      "source": [
        "\n",
        "predictions = model.predict([x_test_expand]) # Make prediction\n",
        "plt.imshow(x_test[565], cmap=\"gray\")\n",
        "plt.show()\n",
        "print('predicted Value:',np.argmax(predictions[565])) # Print out the number\n"
      ],
      "execution_count": 14,
      "outputs": [
        {
          "output_type": "display_data",
          "data": {
            "image/png": "[encoded data removed]",
            "text/plain": [
              "<Figure size 432x288 with 1 Axes>"
            ]
          },
          "metadata": {
            "tags": [],
            "needs_background": "light"
          }
        },
        {
          "output_type": "stream",
          "text": [
            "predicted Value: 8\n"
          ],
          "name": "stdout"
        }
      ]
    },
    {
      "cell_type": "code",
      "metadata": {
        "id": "EfUxkbhVoKfk"
      },
      "source": [
        "dict1 = model_history.history\n",
        "\n",
        "loss1= dict1['loss']\n",
        "val_loss1 = dict1['val_loss']\n",
        "\n",
        "acc1 = dict1['accuracy']\n",
        "val_acc1 = dict1['val_accuracy']"
      ],
      "execution_count": 15,
      "outputs": []
    },
    {
      "cell_type": "code",
      "metadata": {
        "colab": {
          "base_uri": "https://localhost:8080/",
          "height": 573
        },
        "id": "OvTlE0yuaMho",
        "outputId": "41fd9c9f-f568-4c3f-fbba-b06cd95e304b"
      },
      "source": [
        "epochs1 = range(1,len(loss1)+1)\n",
        "\n",
        "plt.plot(epochs1,loss1,label='Train loss')\n",
        "plt.plot(epochs1,val_loss1,label='Validation loss')\n",
        "plt.title('Model loss')\n",
        "plt.ylabel('Loss')\n",
        "plt.xlabel('Epochs')\n",
        "plt.show()\n",
        "\n",
        "\n",
        "plt.figure()\n",
        "plt.plot(epochs1,acc1,label='Train Accuracy')\n",
        "plt.plot(epochs1,val_acc1,label='Validation Accuracy')\n",
        "plt.title('Model Accuracy')\n",
        "plt.ylabel('Accuracy')\n",
        "plt.xlabel('Epochs')\n",
        "plt.show()"
      ],
      "execution_count": 16,
      "outputs": [
        {
          "output_type": "display_data",
          "data": {
            "image/png": "[encoded data removed]",
            "text/plain": [
              "<Figure size 432x288 with 1 Axes>"
            ]
          },
          "metadata": {
            "tags": [],
            "needs_background": "light"
          }
        },
        {
          "output_type": "display_data",
          "data": {
            "image/png": "[encoded data removed]",
            "text/plain": [
              "<Figure size 432x288 with 1 Axes>"
            ]
          },
          "metadata": {
            "tags": [],
            "needs_background": "light"
          }
        }
      ]
    },
    {
      "cell_type": "code",
      "metadata": {
        "colab": {
          "base_uri": "https://localhost:8080/",
          "height": 295
        },
        "id": "Iqqv0RRdBhRV",
        "outputId": "835a3caa-390a-4bc7-ace2-d0d31083a927"
      },
      "source": [
        "plt.figure()\n",
        "\n",
        "plt.plot(epochs1, loss, 'r', label='Training loss')\n",
        "plt.plot(epochs1, val_loss, 'bo', label='Validation loss')\n",
        "plt.title('Training and Validation Loss')\n",
        "plt.xlabel('Epoch')\n",
        "plt.ylabel('Loss Value')\n",
        "plt.ylim([0, 10])\n",
        "plt.legend()\n",
        "plt.show()\n"
      ],
      "execution_count": 17,
      "outputs": [
        {
          "output_type": "display_data",
          "data": {
            "image/png": "[encoded data removed]",
            "text/plain": [
              "<Figure size 432x288 with 1 Axes>"
            ]
          },
          "metadata": {
            "tags": [],
            "needs_background": "light"
          }
        }
      ]
    },
    {
      "cell_type": "code",
      "metadata": {
        "colab": {
          "base_uri": "https://localhost:8080/",
          "height": 295
        },
        "id": "fk5G-BlHBnDy",
        "outputId": "9b6959df-bbe4-4e64-e41d-ef2d5827dce0"
      },
      "source": [
        "plt.figure()\n",
        "plt.plot(epochs1, acc1, 'r', label = 'training accuracy')\n",
        "plt.plot(epochs1,val_acc1,'bo',label='validation accuracy')\n",
        "plt.title('training and validation accuracy')\n",
        "plt.xlabel('Epoch')\n",
        "plt.ylabel('accuracy value')\n",
        "plt.ylim([0,0.2])\n",
        "plt.legend()\n",
        "plt.show()"
      ],
      "execution_count": 18,
      "outputs": [
        {
          "output_type": "display_data",
          "data": {
            "image/png": "[encoded data removed]",
            "text/plain": [
              "<Figure size 432x288 with 1 Axes>"
            ]
          },
          "metadata": {
            "tags": [],
            "needs_background": "light"
          }
        }
      ]
    },
    {
      "cell_type": "code",
      "metadata": {
        "id": "lj_77qUJDz0n"
      },
      "source": [
        "|"
      ],
      "execution_count": null,
      "outputs": []
    }
  ]
}