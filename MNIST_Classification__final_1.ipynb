{
  "nbformat": 4,
  "nbformat_minor": 0,
  "metadata": {
    "colab": {
      "name": "MNIST_Classification _final_1.ipynb",
      "provenance": [],
      "collapsed_sections": []
    },
    "kernelspec": {
      "name": "python3",
      "display_name": "Python 3"
    },
    "language_info": {
      "name": "python"
    },
    "accelerator": "GPU"
  },
  "cells": [
    {
      "cell_type": "code",
      "metadata": {
        "id": "tOMGA3AeaA32"
      },
      "source": [
        "import tensorflow as tf\n",
        "import pydot\n",
        "import keras \n",
        "from keras.datasets import mnist\n",
        "from keras.models import Sequential\n",
        "from keras.layers import Dense, Dropout, Flatten\n",
        "from keras.layers import Conv2D, MaxPooling2D\n",
        "from keras.utils import to_categorical\n",
        "import matplotlib.pyplot as plt\n",
        "import numpy as np\n",
        "from keras.utils.vis_utils import plot_model\n",
        "from keras.optimizers import Adam\n"
      ],
      "execution_count": 1,
      "outputs": []
    },
    {
      "cell_type": "code",
      "metadata": {
        "colab": {
          "base_uri": "https://localhost:8080/",
          "height": 300
        },
        "id": "ZqdfUzmIaCv5",
        "outputId": "4a859914-e676-4ade-9fdb-a0cf3476c997"
      },
      "source": [
        "#================loding MNIST dataset===================================\n",
        "mnist = tf.keras.datasets.mnist\n",
        "\n",
        "(x_train, y_train),(x_test, y_test) = mnist.load_data() # Load data\n",
        "plt.imshow(x_train[0], cmap=\"gray\")\n",
        "plt.show()\n"
      ],
      "execution_count": 2,
      "outputs": [
        {
          "output_type": "stream",
          "text": [
            "Downloading data from https://storage.googleapis.com/tensorflow/tf-keras-datasets/mnist.npz\n",
            "11493376/11490434 [==============================] - 0s 0us/step\n"
          ],
          "name": "stdout"
        },
        {
          "output_type": "display_data",
          "data": {
            "image/png": "[encoded data removed]",
            "text/plain": [
              "<Figure size 432x288 with 1 Axes>"
            ]
          },
          "metadata": {
            "tags": [],
            "needs_background": "light"
          }
        }
      ]
    },
    {
      "cell_type": "code",
      "metadata": {
        "id": "yiABt84AhQqO"
      },
      "source": [
        "x_val = x_train[:10000]\n",
        "y_val = y_train[:10000]\n",
        "\n",
        "x_train_new =  x_train[10000:]\n",
        "y_train_new = y_train[10000:]"
      ],
      "execution_count": 3,
      "outputs": []
    },
    {
      "cell_type": "code",
      "metadata": {
        "id": "vJZOyPaleoYH"
      },
      "source": [
        "#one hot encoding \n",
        "y_train_new = to_categorical(y_train_new)\n",
        "y_val = to_categorical(y_val)\n",
        "y_test = to_categorical(y_test)"
      ],
      "execution_count": 4,
      "outputs": []
    },
    {
      "cell_type": "code",
      "metadata": {
        "colab": {
          "base_uri": "https://localhost:8080/"
        },
        "id": "JjVKtp_8c4wV",
        "outputId": "4c2ecf93-299e-449c-b03b-effc6e19f3b0"
      },
      "source": [
        "print(x_train_new.shape)\n",
        "print(x_val.shape)\n",
        "print(x_test.shape)\n"
      ],
      "execution_count": 5,
      "outputs": [
        {
          "output_type": "stream",
          "text": [
            "(50000, 28, 28)\n",
            "(10000, 28, 28)\n",
            "(10000, 28, 28)\n"
          ],
          "name": "stdout"
        }
      ]
    },
    {
      "cell_type": "code",
      "metadata": {
        "colab": {
          "base_uri": "https://localhost:8080/"
        },
        "id": "VmqD9ShEl9nQ",
        "outputId": "dd0be691-54e1-4c44-e987-8745c4739f2b"
      },
      "source": [
        "print(y_train_new.shape)\n",
        "print(y_val.shape)\n",
        "print(y_test.shape)\n"
      ],
      "execution_count": 6,
      "outputs": [
        {
          "output_type": "stream",
          "text": [
            "(50000, 10)\n",
            "(10000, 10)\n",
            "(10000, 10)\n"
          ],
          "name": "stdout"
        }
      ]
    },
    {
      "cell_type": "code",
      "metadata": {
        "colab": {
          "base_uri": "https://localhost:8080/",
          "height": 335
        },
        "id": "QlThhqgcaCqx",
        "outputId": "2a8f6a15-2e42-459f-ebc3-1ca5a04d40a0"
      },
      "source": [
        "\n",
        "x_train_expand = x_train_new.reshape((x_train_new.shape[0], 28, 28, 1))\n",
        "x_test_expand = x_test.reshape((x_test.shape[0], 28, 28, 1))\n",
        "x_val_expand = x_val.reshape((x_val.shape[0], 28, 28, 1))\n",
        "x_train_expand = x_train_expand.astype('float16')\n",
        "x_test_expand = x_test_expand.astype('float16')\n",
        "print(x_train_expand.shape)\n",
        "print(x_test_expand.shape)\n",
        "print(x_val_expand.shape)\n",
        "plt.imshow(x_train[4])\n"
      ],
      "execution_count": 7,
      "outputs": [
        {
          "output_type": "stream",
          "text": [
            "(50000, 28, 28, 1)\n",
            "(10000, 28, 28, 1)\n",
            "(10000, 28, 28, 1)\n"
          ],
          "name": "stdout"
        },
        {
          "output_type": "execute_result",
          "data": {
            "text/plain": [
              "<matplotlib.image.AxesImage at 0x7f3018a25750>"
            ]
          },
          "metadata": {
            "tags": []
          },
          "execution_count": 7
        },
        {
          "output_type": "display_data",
          "data": {
            "image/png": "[encoded data removed]",
            "text/plain": [
              "<Figure size 432x288 with 1 Axes>"
            ]
          },
          "metadata": {
            "tags": [],
            "needs_background": "light"
          }
        }
      ]
    },
    {
      "cell_type": "code",
      "metadata": {
        "id": "iMXbTPmtF3rw"
      },
      "source": [
        "x_train_expand = x_train_expand / 255.0\n",
        "x_test_expand = x_test_expand / 255.0"
      ],
      "execution_count": 8,
      "outputs": []
    },
    {
      "cell_type": "code",
      "metadata": {
        "id": "Ei_uyza8aCns"
      },
      "source": [
        "model = tf.keras.Sequential()\n",
        "model.add(Conv2D(8, kernel_size=5, activation='relu',strides =(1,1),padding='same',input_shape = (28,28,1)))\n",
        "model.add(MaxPooling2D(pool_size=(2,2),strides=None,padding='valid'))\n",
        "model.add(Conv2D(16, kernel_size=3, activation='relu',padding = 'same'))\n",
        "model.add(Flatten())\n",
        "model.add(Dense(32,activation='softmax'))\n",
        "model.add(Dense(10,activation='softmax'))"
      ],
      "execution_count": 9,
      "outputs": []
    },
    {
      "cell_type": "code",
      "metadata": {
        "colab": {
          "base_uri": "https://localhost:8080/"
        },
        "id": "W6tdWt3xa0kR",
        "outputId": "41632fa9-2e9a-4219-8483-195b794f8e5b"
      },
      "source": [
        "print(model.summary())"
      ],
      "execution_count": 10,
      "outputs": [
        {
          "output_type": "stream",
          "text": [
            "Model: \"sequential\"\n",
            "_________________________________________________________________\n",
            "Layer (type)                 Output Shape              Param #   \n",
            "=================================================================\n",
            "conv2d (Conv2D)              (None, 28, 28, 8)         208       \n",
            "_________________________________________________________________\n",
            "max_pooling2d (MaxPooling2D) (None, 14, 14, 8)         0         \n",
            "_________________________________________________________________\n",
            "conv2d_1 (Conv2D)            (None, 14, 14, 16)        1168      \n",
            "_________________________________________________________________\n",
            "flatten (Flatten)            (None, 3136)              0         \n",
            "_________________________________________________________________\n",
            "dense (Dense)                (None, 32)                100384    \n",
            "_________________________________________________________________\n",
            "dense_1 (Dense)              (None, 10)                330       \n",
            "=================================================================\n",
            "Total params: 102,090\n",
            "Trainable params: 102,090\n",
            "Non-trainable params: 0\n",
            "_________________________________________________________________\n",
            "None\n"
          ],
          "name": "stdout"
        }
      ]
    },
    {
      "cell_type": "code",
      "metadata": {
        "id": "Gvz4kCmRn3EX"
      },
      "source": [
        "epochs_value = 20"
      ],
      "execution_count": 11,
      "outputs": []
    },
    {
      "cell_type": "code",
      "metadata": {
        "colab": {
          "base_uri": "https://localhost:8080/"
        },
        "id": "OE1JXo1-aCk5",
        "outputId": "e8becfad-5186-4aee-d217-84ef36bff484"
      },
      "source": [
        "model.compile(optimizer=Adam(), loss='categorical_crossentropy', metrics=['accuracy'])\n",
        "\n",
        "model_history = model.fit(x= x_train_expand, y = y_train_new, validation_data=(x_val_expand,y_val) , epochs=epochs_value)\n",
        "loss = model_history.history['loss']\n",
        "val_loss = model_history.history['val_loss']"
      ],
      "execution_count": 12,
      "outputs": [
        {
          "output_type": "stream",
          "text": [
            "Epoch 1/20\n",
            "1563/1563 [==============================] - 38s 4ms/step - loss: 1.6959 - accuracy: 0.5533 - val_loss: 0.9722 - val_accuracy: 0.5898\n",
            "Epoch 2/20\n",
            "1563/1563 [==============================] - 5s 3ms/step - loss: 0.8694 - accuracy: 0.6046 - val_loss: 0.7803 - val_accuracy: 0.5949\n",
            "Epoch 3/20\n",
            "1563/1563 [==============================] - 5s 3ms/step - loss: 0.7027 - accuracy: 0.6118 - val_loss: 0.6942 - val_accuracy: 0.6570\n",
            "Epoch 4/20\n",
            "1563/1563 [==============================] - 5s 3ms/step - loss: 0.5546 - accuracy: 0.7317 - val_loss: 0.5805 - val_accuracy: 0.6977\n",
            "Epoch 5/20\n",
            "1563/1563 [==============================] - 5s 3ms/step - loss: 0.4514 - accuracy: 0.7899 - val_loss: 0.5909 - val_accuracy: 0.7553\n",
            "Epoch 6/20\n",
            "1563/1563 [==============================] - 5s 3ms/step - loss: 0.3078 - accuracy: 0.8960 - val_loss: 0.5569 - val_accuracy: 0.7825\n",
            "Epoch 7/20\n",
            "1563/1563 [==============================] - 5s 3ms/step - loss: 0.1861 - accuracy: 0.9781 - val_loss: 0.4583 - val_accuracy: 0.8768\n",
            "Epoch 8/20\n",
            "1563/1563 [==============================] - 5s 3ms/step - loss: 0.0894 - accuracy: 0.9884 - val_loss: 0.4578 - val_accuracy: 0.8822\n",
            "Epoch 9/20\n",
            "1563/1563 [==============================] - 5s 3ms/step - loss: 0.0591 - accuracy: 0.9921 - val_loss: 0.4887 - val_accuracy: 0.8823\n",
            "Epoch 10/20\n",
            "1563/1563 [==============================] - 5s 3ms/step - loss: 0.0449 - accuracy: 0.9931 - val_loss: 0.6594 - val_accuracy: 0.8650\n",
            "Epoch 11/20\n",
            "1563/1563 [==============================] - 5s 3ms/step - loss: 0.0395 - accuracy: 0.9933 - val_loss: 0.5698 - val_accuracy: 0.8796\n",
            "Epoch 12/20\n",
            "1563/1563 [==============================] - 5s 3ms/step - loss: 0.0310 - accuracy: 0.9949 - val_loss: 0.6581 - val_accuracy: 0.8732\n",
            "Epoch 13/20\n",
            "1563/1563 [==============================] - 5s 3ms/step - loss: 0.0278 - accuracy: 0.9947 - val_loss: 0.6507 - val_accuracy: 0.8778\n",
            "Epoch 14/20\n",
            "1563/1563 [==============================] - 5s 3ms/step - loss: 0.0244 - accuracy: 0.9958 - val_loss: 0.6671 - val_accuracy: 0.8773\n",
            "Epoch 15/20\n",
            "1563/1563 [==============================] - 5s 3ms/step - loss: 0.0202 - accuracy: 0.9966 - val_loss: 0.6721 - val_accuracy: 0.8776\n",
            "Epoch 16/20\n",
            "1563/1563 [==============================] - 5s 3ms/step - loss: 0.0184 - accuracy: 0.9966 - val_loss: 0.7811 - val_accuracy: 0.8705\n",
            "Epoch 17/20\n",
            "1563/1563 [==============================] - 5s 3ms/step - loss: 0.0186 - accuracy: 0.9964 - val_loss: 0.7555 - val_accuracy: 0.8746\n",
            "Epoch 18/20\n",
            "1563/1563 [==============================] - 5s 3ms/step - loss: 0.0164 - accuracy: 0.9971 - val_loss: 0.7301 - val_accuracy: 0.8774\n",
            "Epoch 19/20\n",
            "1563/1563 [==============================] - 5s 3ms/step - loss: 0.0134 - accuracy: 0.9973 - val_loss: 0.7693 - val_accuracy: 0.8750\n",
            "Epoch 20/20\n",
            "1563/1563 [==============================] - 5s 3ms/step - loss: 0.0132 - accuracy: 0.9978 - val_loss: 0.8445 - val_accuracy: 0.8693\n"
          ],
          "name": "stdout"
        }
      ]
    },
    {
      "cell_type": "code",
      "metadata": {
        "colab": {
          "base_uri": "https://localhost:8080/"
        },
        "id": "3IEqDmTqaMmN",
        "outputId": "6de93a02-d08a-4b9b-c800-cb0fc39ebfdb"
      },
      "source": [
        "test_loss, test_acc = model.evaluate(x = x_test_expand, y=y_test)\n",
        "print('\\nTest accuracy:', test_acc)"
      ],
      "execution_count": 13,
      "outputs": [
        {
          "output_type": "stream",
          "text": [
            "313/313 [==============================] - 1s 3ms/step - loss: 0.0631 - accuracy: 0.9849\n",
            "\n",
            "Test accuracy: 0.9848999977111816\n"
          ],
          "name": "stdout"
        }
      ]
    },
    {
      "cell_type": "code",
      "metadata": {
        "colab": {
          "base_uri": "https://localhost:8080/",
          "height": 282
        },
        "id": "Mx_tmXoKaMjy",
        "outputId": "dcf98760-8e19-405c-d38e-717fff062eae"
      },
      "source": [
        "\n",
        "predictions = model.predict([x_test_expand]) # Make prediction\n",
        "plt.imshow(x_test[565], cmap=\"gray\")\n",
        "plt.show()\n",
        "print('predicted Value:',np.argmax(predictions[565])) # Print out the number\n"
      ],
      "execution_count": 14,
      "outputs": [
        {
          "output_type": "display_data",
          "data": {
            "image/png": "[encoded data removed]",
            "text/plain": [
              "<Figure size 432x288 with 1 Axes>"
            ]
          },
          "metadata": {
            "tags": [],
            "needs_background": "light"
          }
        },
        {
          "output_type": "stream",
          "text": [
            "predicted Value: 4\n"
          ],
          "name": "stdout"
        }
      ]
    },
    {
      "cell_type": "code",
      "metadata": {
        "id": "EfUxkbhVoKfk"
      },
      "source": [
        "dict1 = model_history.history\n",
        "\n",
        "loss1= dict1['loss']\n",
        "val_loss1 = dict1['val_loss']\n",
        "\n",
        "acc1 = dict1['accuracy']\n",
        "val_acc1 = dict1['val_accuracy']"
      ],
      "execution_count": 15,
      "outputs": []
    },
    {
      "cell_type": "code",
      "metadata": {
        "id": "2jFcZ772UCb2"
      },
      "source": [
        "epochs1 = range(1,len(loss1)+1)"
      ],
      "execution_count": 17,
      "outputs": []
    },
    {
      "cell_type": "code",
      "metadata": {
        "colab": {
          "base_uri": "https://localhost:8080/",
          "height": 295
        },
        "id": "Iqqv0RRdBhRV",
        "outputId": "f59811d5-2389-4156-e2c8-36abdda9aaed"
      },
      "source": [
        "plt.figure()\n",
        "\n",
        "plt.plot(epochs1, loss, 'r', label='Training loss')\n",
        "plt.plot(epochs1, val_loss, 'bo', label='Validation loss')\n",
        "plt.title('Training and Validation Loss for optimal learning rate after normalization')\n",
        "plt.xlabel('Epoch')\n",
        "plt.ylabel('Loss Value')\n",
        "plt.ylim([0, 2])\n",
        "plt.legend()\n",
        "plt.show()\n"
      ],
      "execution_count": 18,
      "outputs": [
        {
          "output_type": "display_data",
          "data": {
            "image/png": "[encoded data removed]",
            "text/plain": [
              "<Figure size 432x288 with 1 Axes>"
            ]
          },
          "metadata": {
            "tags": [],
            "needs_background": "light"
          }
        }
      ]
    },
    {
      "cell_type": "code",
      "metadata": {
        "colab": {
          "base_uri": "https://localhost:8080/",
          "height": 295
        },
        "id": "fk5G-BlHBnDy",
        "outputId": "b7faa1df-8aa5-4c6a-863e-c38debae7cc3"
      },
      "source": [
        "plt.figure()\n",
        "plt.plot(epochs1, acc1, 'r', label = 'training accuracy')\n",
        "plt.plot(epochs1,val_acc1,'bo',label='validation accuracy')\n",
        "plt.title('training and validation accuracy for optimal learning rate after normalization')\n",
        "plt.xlabel('Epoch')\n",
        "plt.ylabel('accuracy value')\n",
        "plt.ylim([0.5,1.5])\n",
        "plt.legend()\n",
        "plt.show()"
      ],
      "execution_count": 19,
      "outputs": [
        {
          "output_type": "display_data",
          "data": {
            "image/png": "[encoded data removed]",
            "text/plain": [
              "<Figure size 432x288 with 1 Axes>"
            ]
          },
          "metadata": {
            "tags": [],
            "needs_background": "light"
          }
        }
      ]
    },
    {
      "cell_type": "code",
      "metadata": {
        "id": "lj_77qUJDz0n",
        "colab": {
          "base_uri": "https://localhost:8080/"
        },
        "outputId": "6ca76a25-c4b7-4406-e97e-40379ebfc427"
      },
      "source": [
        "#implementing same shallow network with a different learning rate \n",
        "model.compile(optimizer=Adam(learning_rate=1), loss='categorical_crossentropy', metrics=['accuracy'])\n",
        "\n",
        "model_history = model.fit(x= x_train_expand, y = y_train_new, validation_data=(x_val_expand,y_val) , epochs=epochs_value)\n",
        "loss = model_history.history['loss']\n",
        "val_loss = model_history.history['val_loss']"
      ],
      "execution_count": 20,
      "outputs": [
        {
          "output_type": "stream",
          "text": [
            "Epoch 1/20\n",
            "1563/1563 [==============================] - 6s 4ms/step - loss: 2.6497 - accuracy: 0.1158 - val_loss: 2.6870 - val_accuracy: 0.1127\n",
            "Epoch 2/20\n",
            "1563/1563 [==============================] - 5s 3ms/step - loss: 2.4982 - accuracy: 0.1012 - val_loss: 2.5067 - val_accuracy: 0.0863\n",
            "Epoch 3/20\n",
            "1563/1563 [==============================] - 5s 3ms/step - loss: 2.4977 - accuracy: 0.1028 - val_loss: 2.4957 - val_accuracy: 0.0991\n",
            "Epoch 4/20\n",
            "1563/1563 [==============================] - 5s 3ms/step - loss: 2.4978 - accuracy: 0.1006 - val_loss: 2.4577 - val_accuracy: 0.1014\n",
            "Epoch 5/20\n",
            "1563/1563 [==============================] - 5s 3ms/step - loss: 2.5020 - accuracy: 0.0984 - val_loss: 2.4010 - val_accuracy: 0.1127\n",
            "Epoch 6/20\n",
            "1563/1563 [==============================] - 5s 3ms/step - loss: 2.5001 - accuracy: 0.1013 - val_loss: 2.6437 - val_accuracy: 0.0863\n",
            "Epoch 7/20\n",
            "1563/1563 [==============================] - 5s 3ms/step - loss: 2.5021 - accuracy: 0.1020 - val_loss: 2.4483 - val_accuracy: 0.1032\n",
            "Epoch 8/20\n",
            "1563/1563 [==============================] - 5s 3ms/step - loss: 2.5039 - accuracy: 0.1013 - val_loss: 2.5000 - val_accuracy: 0.1127\n",
            "Epoch 9/20\n",
            "1563/1563 [==============================] - 5s 3ms/step - loss: 2.5077 - accuracy: 0.1008 - val_loss: 2.5410 - val_accuracy: 0.0991\n",
            "Epoch 10/20\n",
            "1563/1563 [==============================] - 5s 3ms/step - loss: 2.5155 - accuracy: 0.1032 - val_loss: 2.4713 - val_accuracy: 0.0978\n",
            "Epoch 11/20\n",
            "1563/1563 [==============================] - 5s 3ms/step - loss: 2.5053 - accuracy: 0.1006 - val_loss: 2.4609 - val_accuracy: 0.0980\n",
            "Epoch 12/20\n",
            "1563/1563 [==============================] - 5s 3ms/step - loss: 2.5123 - accuracy: 0.1016 - val_loss: 2.5724 - val_accuracy: 0.0944\n",
            "Epoch 13/20\n",
            "1563/1563 [==============================] - 5s 3ms/step - loss: 2.5019 - accuracy: 0.0979 - val_loss: 2.5630 - val_accuracy: 0.0991\n",
            "Epoch 14/20\n",
            "1563/1563 [==============================] - 5s 3ms/step - loss: 2.5008 - accuracy: 0.1015 - val_loss: 2.4527 - val_accuracy: 0.0991\n",
            "Epoch 15/20\n",
            "1563/1563 [==============================] - 5s 3ms/step - loss: 2.4977 - accuracy: 0.1025 - val_loss: 2.5578 - val_accuracy: 0.0991\n",
            "Epoch 16/20\n",
            "1563/1563 [==============================] - 5s 3ms/step - loss: 2.5070 - accuracy: 0.1011 - val_loss: 2.5239 - val_accuracy: 0.1001\n",
            "Epoch 17/20\n",
            "1563/1563 [==============================] - 5s 3ms/step - loss: 2.4962 - accuracy: 0.0974 - val_loss: 2.6102 - val_accuracy: 0.1014\n",
            "Epoch 18/20\n",
            "1563/1563 [==============================] - 5s 3ms/step - loss: 2.5040 - accuracy: 0.1025 - val_loss: 2.4479 - val_accuracy: 0.0980\n",
            "Epoch 19/20\n",
            "1563/1563 [==============================] - 5s 3ms/step - loss: 2.5023 - accuracy: 0.1019 - val_loss: 2.4078 - val_accuracy: 0.1127\n",
            "Epoch 20/20\n",
            "1563/1563 [==============================] - 5s 3ms/step - loss: 2.4978 - accuracy: 0.1002 - val_loss: 2.7366 - val_accuracy: 0.0980\n"
          ],
          "name": "stdout"
        }
      ]
    },
    {
      "cell_type": "code",
      "metadata": {
        "id": "_YU5-r6Qlwwr"
      },
      "source": [
        "test_loss, test_acc = model.evaluate(x = x_test_expand, y=y_test)\n",
        "print('\\nTest accuracy:', test_acc)\n",
        "predictions = model.predict([x_test_expand]) # Make prediction\n",
        "plt.imshow(x_test[565], cmap=\"gray\")\n",
        "plt.show()\n",
        "print('predicted Value:',np.argmax(predictions[565])) # Print out the number"
      ],
      "execution_count": null,
      "outputs": []
    },
    {
      "cell_type": "code",
      "metadata": {
        "id": "qdBsR-K9lhw0"
      },
      "source": [
        "dict2 = model_history.history\n",
        "\n",
        "loss2= dict2['loss']\n",
        "val_loss2 = dict2['val_loss']\n",
        "\n",
        "acc2 = dict2['accuracy']\n",
        "val_acc2 = dict2['val_accuracy']"
      ],
      "execution_count": null,
      "outputs": []
    },
    {
      "cell_type": "code",
      "metadata": {
        "id": "9bT12PP7mYF5"
      },
      "source": [
        "#visualizing result\n",
        "plt.figure()\n",
        "\n",
        "plt.plot(epochs1, loss2, 'r', label='Training loss')\n",
        "plt.plot(epochs1, val_loss2, 'bo', label='Validation loss')\n",
        "plt.title('Training and Validation Loss for learning rate = 1 after normalization')\n",
        "plt.xlabel('Epoch')\n",
        "plt.ylabel('Loss Value')\n",
        "plt.ylim([2.25, 2.7])\n",
        "plt.legend()\n",
        "plt.show()"
      ],
      "execution_count": null,
      "outputs": []
    },
    {
      "cell_type": "code",
      "metadata": {
        "id": "dxfSmpQMmU3V"
      },
      "source": [
        "plt.figure()\n",
        "plt.plot(epochs1, acc2, 'r', label = 'training accuracy')\n",
        "plt.plot(epochs1,val_acc2,'bo',label='validation accuracy')\n",
        "plt.title('training and validation accuracy for learning rate = 1 after normalization')\n",
        "plt.xlabel('Epoch')\n",
        "plt.ylabel('accuracy value')\n",
        "plt.ylim([0.075,0.125])\n",
        "plt.legend()\n",
        "plt.show()"
      ],
      "execution_count": null,
      "outputs": []
    },
    {
      "cell_type": "code",
      "metadata": {
        "id": "E3cu8d6emdRH"
      },
      "source": [
        "#model for the learning rate 0.0000001\n",
        "model.compile(optimizer=Adam(learning_rate=0.0000001), loss='categorical_crossentropy', metrics=['accuracy'])\n",
        "\n",
        "model_history = model.fit(x= x_train_expand, y = y_train_new, validation_data=(x_val_expand,y_val) , epochs=epochs_value)\n",
        "loss = model_history.history['loss']\n",
        "val_loss = model_history.history['val_loss']"
      ],
      "execution_count": null,
      "outputs": []
    },
    {
      "cell_type": "code",
      "metadata": {
        "id": "zj_rIKplm7M9"
      },
      "source": [
        "test_loss, test_acc = model.evaluate(x = x_test_expand, y=y_test)\n",
        "print('\\nTest accuracy:', test_acc)\n",
        "predictions = model.predict([x_test_expand]) # Make prediction\n",
        "plt.imshow(x_test[565], cmap=\"gray\")\n",
        "plt.show()\n",
        "print('predicted Value:',np.argmax(predictions[565])) # Print out the number"
      ],
      "execution_count": null,
      "outputs": []
    },
    {
      "cell_type": "code",
      "metadata": {
        "id": "1f08VgrxnLcf"
      },
      "source": [
        "dict3 = model_history.history\n",
        "\n",
        "loss3= dict3['loss']\n",
        "val_loss3 = dict3['val_loss']\n",
        "\n",
        "acc3 = dict3['accuracy']\n",
        "val_acc3 = dict3['val_accuracy']"
      ],
      "execution_count": null,
      "outputs": []
    },
    {
      "cell_type": "code",
      "metadata": {
        "id": "VssAycjNnRl_"
      },
      "source": [
        "#visualizing result\n",
        "plt.figure()\n",
        "\n",
        "plt.plot(epochs1, loss3, 'r', label='Training loss')\n",
        "plt.plot(epochs1, val_loss3, 'bo', label='Validation loss')\n",
        "plt.title('Training and Validation Loss for learning rate = 0.0000001 after normalization')\n",
        "plt.xlabel('Epoch')\n",
        "plt.ylabel('Loss Value')\n",
        "plt.ylim([2.6, 2.675])\n",
        "plt.legend()\n",
        "plt.show()"
      ],
      "execution_count": null,
      "outputs": []
    },
    {
      "cell_type": "code",
      "metadata": {
        "id": "WqYaQRNnnUfg"
      },
      "source": [
        "plt.figure()\n",
        "plt.plot(epochs1, acc3, 'r', label = 'training accuracy')\n",
        "plt.plot(epochs1,val_acc3,'bo',label='validation accuracy')\n",
        "plt.title('training and validation accuracy for learning rate = 0.0000001 after normalization')\n",
        "plt.xlabel('Epoch')\n",
        "plt.ylabel('accuracy value')\n",
        "plt.ylim([0.07,0.105])\n",
        "plt.legend()\n",
        "plt.show()"
      ],
      "execution_count": null,
      "outputs": []
    },
    {
      "cell_type": "code",
      "metadata": {
        "id": "7eIJJYSynwz3"
      },
      "source": [
        ""
      ],
      "execution_count": null,
      "outputs": []
    }
  ]
}